{
 "cells": [
  {
   "cell_type": "markdown",
   "id": "723a6d43-0536-461e-8eef-26a1898d3201",
   "metadata": {},
   "source": [
    "## Import Required Libraries"
   ]
  },
  {
   "cell_type": "code",
   "execution_count": 1,
   "id": "ca1a13dd-5ae4-4383-8f9c-a18233f89d72",
   "metadata": {},
   "outputs": [],
   "source": [
    "import psycopg2\n",
    "import os\n",
    "from dotenv import load_dotenv"
   ]
  },
  {
   "cell_type": "markdown",
   "id": "ac8c4174-5f2c-45d1-91e0-56ede70e907e",
   "metadata": {},
   "source": [
    "## Import PostgreSQL Credentials from .env with python-dotenv"
   ]
  },
  {
   "cell_type": "code",
   "execution_count": 2,
   "id": "ff89bd03-d099-4d96-8e2a-0a4a1961683c",
   "metadata": {},
   "outputs": [
    {
     "name": "stdout",
     "output_type": "stream",
     "text": [
      "Loaded environment variables from python_sql_connector.env\n"
     ]
    }
   ],
   "source": [
    "dotenv_path = 'python_sql_connector.env'\n",
    "if not load_dotenv(dotenv_path=dotenv_path):\n",
    "    print(f\"Warning: Could not find {dotenv_path}\")\n",
    "else:\n",
    "    print(f\"Loaded environment variables from {dotenv_path}\")"
   ]
  },
  {
   "cell_type": "markdown",
   "id": "4ce494c6-2f51-44e5-a252-7c52d201bf3d",
   "metadata": {},
   "source": [
    "## Access Credentials from .env Using os"
   ]
  },
  {
   "cell_type": "code",
   "execution_count": 3,
   "id": "c722f5e8-cc0c-4520-9eda-7ac5507f94af",
   "metadata": {},
   "outputs": [],
   "source": [
    "DB_HOST = os.getenv('DB_HOST')\n",
    "DB_NAME = os.getenv('DB_NAME')\n",
    "DB_USER = os.getenv('DB_USER')\n",
    "DB_PASSWORD = os.getenv('DB_PASSWORD')"
   ]
  },
  {
   "cell_type": "code",
   "execution_count": 4,
   "id": "a69f03d8-18f8-48d8-850a-645defa04abe",
   "metadata": {},
   "outputs": [
    {
     "name": "stdout",
     "output_type": "stream",
     "text": [
      "Connection established successfully\n"
     ]
    }
   ],
   "source": [
    "try:\n",
    "    conn = psycopg2.connect(\n",
    "        host = DB_HOST,\n",
    "        dbname = DB_NAME,\n",
    "        user = DB_USER,\n",
    "        password = DB_PASSWORD\n",
    "    )\n",
    "    conn.set_session(autocommit = True)\n",
    "    print(\"Connection established successfully\")\n",
    "except psycopg2.Error as e:\n",
    "    print(\"Error: Could not make connection to the Postgres database\")\n",
    "    print(e)"
   ]
  },
  {
   "cell_type": "code",
   "execution_count": 5,
   "id": "13688dae-f4e9-4eec-98f9-1093b68089b8",
   "metadata": {},
   "outputs": [
    {
     "name": "stdout",
     "output_type": "stream",
     "text": [
      "cursor created successfully\n"
     ]
    }
   ],
   "source": [
    "try:\n",
    "    curr = conn.cursor()\n",
    "    print(\"cursor created successfully\")\n",
    "except psycopg2.Error as e:\n",
    "    print(\"Error: Could not get curser to the database\")\n",
    "    print(e)"
   ]
  },
  {
   "cell_type": "code",
   "execution_count": null,
   "id": "ed8f77f0-de65-49be-8eeb-29f994c4e4ad",
   "metadata": {},
   "outputs": [],
   "source": []
  }
 ],
 "metadata": {
  "kernelspec": {
   "display_name": "Python 3 (ipykernel)",
   "language": "python",
   "name": "python3"
  },
  "language_info": {
   "codemirror_mode": {
    "name": "ipython",
    "version": 3
   },
   "file_extension": ".py",
   "mimetype": "text/x-python",
   "name": "python",
   "nbconvert_exporter": "python",
   "pygments_lexer": "ipython3",
   "version": "3.12.4"
  }
 },
 "nbformat": 4,
 "nbformat_minor": 5
}
